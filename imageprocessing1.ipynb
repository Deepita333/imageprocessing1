{
  "nbformat": 4,
  "nbformat_minor": 0,
  "metadata": {
    "colab": {
      "provenance": []
    },
    "kernelspec": {
      "name": "python3",
      "display_name": "Python 3"
    },
    "language_info": {
      "name": "python"
    }
  },
  "cells": [
    {
      "cell_type": "code",
      "source": [
        "#Implementing a Random Forest Classifier"
      ],
      "metadata": {
        "id": "lrUHAXGes3zr"
      },
      "execution_count": null,
      "outputs": []
    },
    {
      "cell_type": "code",
      "execution_count": 10,
      "metadata": {
        "colab": {
          "base_uri": "https://localhost:8080/",
          "height": 129
        },
        "id": "W3OyB31xfq5p",
        "outputId": "b68ac421-a1ea-4c49-ff4d-0b258ac40cdb"
      },
      "outputs": [
        {
          "output_type": "stream",
          "name": "stderr",
          "text": [
            "<ipython-input-10-a8fd2310e724>:23: DataConversionWarning: A column-vector y was passed when a 1d array was expected. Please change the shape of y to (n_samples,), for example using ravel().\n",
            "  model.fit(x_train2,y_train)\n"
          ]
        },
        {
          "output_type": "execute_result",
          "data": {
            "text/plain": [
              "RandomForestClassifier()"
            ],
            "text/html": [
              "<style>#sk-container-id-1 {color: black;background-color: white;}#sk-container-id-1 pre{padding: 0;}#sk-container-id-1 div.sk-toggleable {background-color: white;}#sk-container-id-1 label.sk-toggleable__label {cursor: pointer;display: block;width: 100%;margin-bottom: 0;padding: 0.3em;box-sizing: border-box;text-align: center;}#sk-container-id-1 label.sk-toggleable__label-arrow:before {content: \"▸\";float: left;margin-right: 0.25em;color: #696969;}#sk-container-id-1 label.sk-toggleable__label-arrow:hover:before {color: black;}#sk-container-id-1 div.sk-estimator:hover label.sk-toggleable__label-arrow:before {color: black;}#sk-container-id-1 div.sk-toggleable__content {max-height: 0;max-width: 0;overflow: hidden;text-align: left;background-color: #f0f8ff;}#sk-container-id-1 div.sk-toggleable__content pre {margin: 0.2em;color: black;border-radius: 0.25em;background-color: #f0f8ff;}#sk-container-id-1 input.sk-toggleable__control:checked~div.sk-toggleable__content {max-height: 200px;max-width: 100%;overflow: auto;}#sk-container-id-1 input.sk-toggleable__control:checked~label.sk-toggleable__label-arrow:before {content: \"▾\";}#sk-container-id-1 div.sk-estimator input.sk-toggleable__control:checked~label.sk-toggleable__label {background-color: #d4ebff;}#sk-container-id-1 div.sk-label input.sk-toggleable__control:checked~label.sk-toggleable__label {background-color: #d4ebff;}#sk-container-id-1 input.sk-hidden--visually {border: 0;clip: rect(1px 1px 1px 1px);clip: rect(1px, 1px, 1px, 1px);height: 1px;margin: -1px;overflow: hidden;padding: 0;position: absolute;width: 1px;}#sk-container-id-1 div.sk-estimator {font-family: monospace;background-color: #f0f8ff;border: 1px dotted black;border-radius: 0.25em;box-sizing: border-box;margin-bottom: 0.5em;}#sk-container-id-1 div.sk-estimator:hover {background-color: #d4ebff;}#sk-container-id-1 div.sk-parallel-item::after {content: \"\";width: 100%;border-bottom: 1px solid gray;flex-grow: 1;}#sk-container-id-1 div.sk-label:hover label.sk-toggleable__label {background-color: #d4ebff;}#sk-container-id-1 div.sk-serial::before {content: \"\";position: absolute;border-left: 1px solid gray;box-sizing: border-box;top: 0;bottom: 0;left: 50%;z-index: 0;}#sk-container-id-1 div.sk-serial {display: flex;flex-direction: column;align-items: center;background-color: white;padding-right: 0.2em;padding-left: 0.2em;position: relative;}#sk-container-id-1 div.sk-item {position: relative;z-index: 1;}#sk-container-id-1 div.sk-parallel {display: flex;align-items: stretch;justify-content: center;background-color: white;position: relative;}#sk-container-id-1 div.sk-item::before, #sk-container-id-1 div.sk-parallel-item::before {content: \"\";position: absolute;border-left: 1px solid gray;box-sizing: border-box;top: 0;bottom: 0;left: 50%;z-index: -1;}#sk-container-id-1 div.sk-parallel-item {display: flex;flex-direction: column;z-index: 1;position: relative;background-color: white;}#sk-container-id-1 div.sk-parallel-item:first-child::after {align-self: flex-end;width: 50%;}#sk-container-id-1 div.sk-parallel-item:last-child::after {align-self: flex-start;width: 50%;}#sk-container-id-1 div.sk-parallel-item:only-child::after {width: 0;}#sk-container-id-1 div.sk-dashed-wrapped {border: 1px dashed gray;margin: 0 0.4em 0.5em 0.4em;box-sizing: border-box;padding-bottom: 0.4em;background-color: white;}#sk-container-id-1 div.sk-label label {font-family: monospace;font-weight: bold;display: inline-block;line-height: 1.2em;}#sk-container-id-1 div.sk-label-container {text-align: center;}#sk-container-id-1 div.sk-container {/* jupyter's `normalize.less` sets `[hidden] { display: none; }` but bootstrap.min.css set `[hidden] { display: none !important; }` so we also need the `!important` here to be able to override the default hidden behavior on the sphinx rendered scikit-learn.org. See: https://github.com/scikit-learn/scikit-learn/issues/21755 */display: inline-block !important;position: relative;}#sk-container-id-1 div.sk-text-repr-fallback {display: none;}</style><div id=\"sk-container-id-1\" class=\"sk-top-container\"><div class=\"sk-text-repr-fallback\"><pre>RandomForestClassifier()</pre><b>In a Jupyter environment, please rerun this cell to show the HTML representation or trust the notebook. <br />On GitHub, the HTML representation is unable to render, please try loading this page with nbviewer.org.</b></div><div class=\"sk-container\" hidden><div class=\"sk-item\"><div class=\"sk-estimator sk-toggleable\"><input class=\"sk-toggleable__control sk-hidden--visually\" id=\"sk-estimator-id-1\" type=\"checkbox\" checked><label for=\"sk-estimator-id-1\" class=\"sk-toggleable__label sk-toggleable__label-arrow\">RandomForestClassifier</label><div class=\"sk-toggleable__content\"><pre>RandomForestClassifier()</pre></div></div></div></div></div>"
            ]
          },
          "metadata": {},
          "execution_count": 10
        }
      ],
      "source": [
        "from tensorflow import keras\n",
        "import matplotlib.pyplot as plt\n",
        "from sklearn.metrics import accuracy_score,confusion_matrix,classification_report\n",
        "import numpy as np\n",
        "import cv2\n",
        "(x_train, y_train), (x_test, y_test) = keras.datasets.cifar10.load_data()\n",
        "x_train.shape,x_test.shape\n",
        "# Normalization\n",
        "x_train = x_train/255.0\n",
        "x_test = x_test/255.0\n",
        "#sklearn expects i/p to be 2d array-model.fit(x_train,y_train)=>reshape to 2d array\n",
        "nsamples, nx, ny, nrgb = x_train.shape\n",
        "x_train2 = x_train.reshape((nsamples,nx*ny*nrgb))\n",
        "#so,eventually,model.predict() should also be a 2d input\n",
        "nsamples, nx, ny, nrgb = x_test.shape\n",
        "x_test2 = x_test.reshape((nsamples,nx*ny*nrgb))\n",
        "\n",
        "#For this, we must first import it from sklearn:\n",
        "from sklearn.ensemble import RandomForestClassifier\n",
        "#Create an instance of the RandomForestClassifier class:\n",
        "model=RandomForestClassifier()\n",
        "#Finally, let us proceed to train the model:\n",
        "model.fit(x_train2,y_train)"
      ]
    },
    {
      "cell_type": "code",
      "source": [
        "#Now, predict for the test set using the fitted Random Forest Classifier model:\n",
        "\n",
        "y_pred=model.predict(x_test2)\n",
        "y_pred\n",
        "# Now, evaluate the model with the test images by obtaining its classification report, confusion matrix, and accuracy score.\n",
        "\n",
        "accuracy_score(y_pred,y_test)\n",
        "print(classification_report(y_pred,y_test))\n",
        "confusion_matrix(y_pred,y_test)\n",
        "# Option 1: Raw string with 'r' prefix\n",
        "img_path = '/bird.jfif'\n",
        "\n",
        "\n",
        "\n",
        "img_arr = cv2.imread(img_path)\n",
        "img_arr = cv2.resize(img_arr, (32, 32))\n",
        "#Now, reshape the image to 2D as discussed in the pre-processing section:\n",
        "\n",
        "#so,eventually,model.predict() should also be a 2d input\n",
        "nx, ny, nrgb = img_arr.shape\n",
        "img_arr2 = img_arr.reshape(1,(nx*ny*nrgb))\n",
        "#Let us declare a list called classes:\n",
        "\n",
        "classes = [\"airplane\",\"automobile\",\"bird\",\"cat\",\"deer\",\"dog\",\"frog\",\"horse\",\"ship\",\"truck\"]\n",
        "ans=model.predict(img_arr2)\n",
        "print(classes[ans[0]])\n",
        "#RandomForestClassifier\n"
      ],
      "metadata": {
        "colab": {
          "base_uri": "https://localhost:8080/"
        },
        "id": "6N5Ih7R1qsz6",
        "outputId": "9a512681-86fb-4faf-9984-b69e080d0033"
      },
      "execution_count": 27,
      "outputs": [
        {
          "output_type": "stream",
          "name": "stdout",
          "text": [
            "              precision    recall  f1-score   support\n",
            "\n",
            "           0       0.56      0.54      0.55      1041\n",
            "           1       0.54      0.52      0.53      1021\n",
            "           2       0.35      0.40      0.37       867\n",
            "           3       0.28      0.35      0.31       803\n",
            "           4       0.40      0.39      0.39      1024\n",
            "           5       0.39      0.43      0.41       905\n",
            "           6       0.57      0.46      0.51      1227\n",
            "           7       0.46      0.52      0.49       879\n",
            "           8       0.61      0.57      0.59      1059\n",
            "           9       0.55      0.47      0.51      1174\n",
            "\n",
            "    accuracy                           0.47     10000\n",
            "   macro avg       0.47      0.47      0.47     10000\n",
            "weighted avg       0.48      0.47      0.47     10000\n",
            "\n",
            "bird\n"
          ]
        }
      ]
    },
    {
      "cell_type": "code",
      "source": [
        "#Implementing a KNN"
      ],
      "metadata": {
        "id": "KkeoD5pes-C4"
      },
      "execution_count": null,
      "outputs": []
    },
    {
      "cell_type": "code",
      "source": [
        "from sklearn.neighbors import KNeighborsClassifier\n",
        "#and then instantiating it to create a KNN model:\n",
        "\n",
        "knn=KNeighborsClassifier(n_neighbors=7)\n",
        "knn.fit(x_train2,y_train)\n",
        "#Now, predict for the test set using the fitted KNN model:\n",
        "\n",
        "y_pred_knn=knn.predict(x_test2)\n",
        "y_pred_knn\n",
        "accuracy_score(y_pred_knn,y_test)\n",
        "print(classification_report(y_pred_knn,y_test))\n",
        "confusion_matrix(y_pred_knn,y_test)"
      ],
      "metadata": {
        "colab": {
          "base_uri": "https://localhost:8080/"
        },
        "id": "_nea0tmetF4q",
        "outputId": "8c8f77f3-9f19-40d8-92dc-267956f544a3"
      },
      "execution_count": 13,
      "outputs": [
        {
          "output_type": "stream",
          "name": "stderr",
          "text": [
            "/usr/local/lib/python3.10/dist-packages/sklearn/neighbors/_classification.py:215: DataConversionWarning: A column-vector y was passed when a 1d array was expected. Please change the shape of y to (n_samples,), for example using ravel().\n",
            "  return self._fit(X, y)\n"
          ]
        },
        {
          "output_type": "stream",
          "name": "stdout",
          "text": [
            "              precision    recall  f1-score   support\n",
            "\n",
            "           0       0.52      0.40      0.45      1299\n",
            "           1       0.20      0.70      0.30       280\n",
            "           2       0.44      0.22      0.29      2013\n",
            "           3       0.20      0.28      0.23       707\n",
            "           4       0.52      0.23      0.32      2222\n",
            "           5       0.20      0.40      0.27       504\n",
            "           6       0.27      0.35      0.30       761\n",
            "           7       0.20      0.70      0.31       281\n",
            "           8       0.69      0.39      0.50      1749\n",
            "           9       0.14      0.73      0.23       184\n",
            "\n",
            "    accuracy                           0.34     10000\n",
            "   macro avg       0.34      0.44      0.32     10000\n",
            "weighted avg       0.45      0.34      0.35     10000\n",
            "\n"
          ]
        },
        {
          "output_type": "execute_result",
          "data": {
            "text/plain": [
              "array([[518, 118, 110,  66,  60,  63,  22,  78, 112, 152],\n",
              "       [  7, 195,   2,   5,   0,   2,   1,   8,  10,  50],\n",
              "       [118, 124, 437, 243, 268, 225, 271, 185,  47,  95],\n",
              "       [ 12,  51,  50, 199,  33, 156,  56,  57,  34,  59],\n",
              "       [ 46, 173, 250, 214, 521, 201, 319, 294,  69, 135],\n",
              "       [  5,  32,  24, 102,  14, 204,  32,  60,  12,  19],\n",
              "       [ 30,  55,  65, 108,  44,  80, 265,  48,  14,  52],\n",
              "       [  5,   8,   7,  11,  11,  10,   1, 196,   7,  25],\n",
              "       [255, 223,  53,  51,  48,  53,  32,  68, 688, 278],\n",
              "       [  4,  21,   2,   1,   1,   6,   1,   6,   7, 135]])"
            ]
          },
          "metadata": {},
          "execution_count": 13
        }
      ]
    },
    {
      "cell_type": "code",
      "source": [
        "#Implementing a Decision Tree"
      ],
      "metadata": {
        "id": "UXnvk0U2vFZP"
      },
      "execution_count": null,
      "outputs": []
    },
    {
      "cell_type": "code",
      "source": [
        "from sklearn.tree import DecisionTreeClassifier\n",
        "#and then instantiating it to create a DecisionTreeClassifier model:\n",
        "\n",
        "dtc=DecisionTreeClassifier()\n",
        "#Finally, train it:\n",
        "\n",
        "dtc.fit(x_train2,y_train)\n",
        "#Now, predict for the test set using the fitted decision tree model:\n",
        "\n",
        "y_pred_dtc=dtc.predict(x_test2)\n",
        "y_pred_dtc\n",
        "accuracy_score(y_pred_dtc,y_test)\n",
        "print(classification_report(y_pred_dtc,y_test))\n",
        "confusion_matrix(y_pred_dtc,y_test)"
      ],
      "metadata": {
        "colab": {
          "base_uri": "https://localhost:8080/"
        },
        "id": "yZn07l9hvHrW",
        "outputId": "eeeefbbb-552d-4b69-91c6-93048395ad37"
      },
      "execution_count": 15,
      "outputs": [
        {
          "output_type": "stream",
          "name": "stdout",
          "text": [
            "              precision    recall  f1-score   support\n",
            "\n",
            "           0       0.36      0.34      0.35      1065\n",
            "           1       0.28      0.29      0.29       948\n",
            "           2       0.21      0.20      0.20      1069\n",
            "           3       0.19      0.19      0.19       980\n",
            "           4       0.24      0.24      0.24       990\n",
            "           5       0.22      0.22      0.22      1022\n",
            "           6       0.27      0.29      0.28       929\n",
            "           7       0.27      0.28      0.27       974\n",
            "           8       0.38      0.37      0.37      1042\n",
            "           9       0.29      0.29      0.29       981\n",
            "\n",
            "    accuracy                           0.27     10000\n",
            "   macro avg       0.27      0.27      0.27     10000\n",
            "weighted avg       0.27      0.27      0.27     10000\n",
            "\n"
          ]
        },
        {
          "output_type": "execute_result",
          "data": {
            "text/plain": [
              "array([[364,  66, 104,  62,  63,  54,  43,  83, 148,  78],\n",
              "       [ 70, 279,  51,  57,  45,  61,  49,  76,  99, 161],\n",
              "       [ 88,  77, 210, 118, 153, 104, 133,  87,  49,  50],\n",
              "       [ 55,  80,  92, 188,  86, 157, 115,  85,  44,  78],\n",
              "       [ 51,  59, 133, 103, 242,  83, 145,  90,  46,  38],\n",
              "       [ 52,  46, 137, 128, 112, 221, 102, 109,  54,  61],\n",
              "       [ 37,  56,  97, 120, 110,  92, 270,  59,  28,  60],\n",
              "       [ 48,  62,  88, 100, 105, 106,  69, 270,  47,  79],\n",
              "       [159, 110,  41,  58,  38,  60,  24,  62, 381, 109],\n",
              "       [ 76, 165,  47,  66,  46,  62,  50,  79, 104, 286]])"
            ]
          },
          "metadata": {},
          "execution_count": 15
        }
      ]
    },
    {
      "cell_type": "code",
      "source": [
        "#Implementing a Naive Bayes classifier"
      ],
      "metadata": {
        "id": "jUU1LZwwxgCp"
      },
      "execution_count": null,
      "outputs": []
    },
    {
      "cell_type": "code",
      "source": [
        "from sklearn.naive_bayes import GaussianNB\n",
        "#and then instantiating it to create an NB model:\n",
        "\n",
        "nb=GaussianNB()\n",
        "#Finally, train it:\n",
        "\n",
        "nb.fit(x_train2,y_train)\n",
        "#Now, predict for the test set using the fitted NB model:\n",
        "\n",
        "y_pred_nb=nb.predict(x_test2)\n",
        "y_pred_nb\n",
        "accuracy_score(y_pred_nb,y_test)\n",
        "print(classification_report(y_pred_nb,y_test))\n",
        "confusion_matrix(y_pred_nb,y_test)"
      ],
      "metadata": {
        "colab": {
          "base_uri": "https://localhost:8080/"
        },
        "id": "eWYtSAUwxhy_",
        "outputId": "25c7d5d7-bd6f-4ee5-d373-6303f46e1212"
      },
      "execution_count": 16,
      "outputs": [
        {
          "output_type": "stream",
          "name": "stderr",
          "text": [
            "/usr/local/lib/python3.10/dist-packages/sklearn/utils/validation.py:1143: DataConversionWarning: A column-vector y was passed when a 1d array was expected. Please change the shape of y to (n_samples, ), for example using ravel().\n",
            "  y = column_or_1d(y, warn=True)\n"
          ]
        },
        {
          "output_type": "stream",
          "name": "stdout",
          "text": [
            "              precision    recall  f1-score   support\n",
            "\n",
            "           0       0.49      0.27      0.35      1817\n",
            "           1       0.17      0.41      0.24       405\n",
            "           2       0.08      0.19      0.12       443\n",
            "           3       0.08      0.25      0.12       305\n",
            "           4       0.42      0.24      0.30      1737\n",
            "           5       0.26      0.31      0.29       840\n",
            "           6       0.47      0.25      0.33      1846\n",
            "           7       0.13      0.42      0.20       310\n",
            "           8       0.47      0.39      0.42      1219\n",
            "           9       0.41      0.38      0.39      1078\n",
            "\n",
            "    accuracy                           0.30     10000\n",
            "   macro avg       0.30      0.31      0.28     10000\n",
            "weighted avg       0.39      0.30      0.32     10000\n",
            "\n"
          ]
        },
        {
          "output_type": "execute_result",
          "data": {
            "text/plain": [
              "array([[494, 141, 225, 163,  86, 156, 106, 134, 168, 144],\n",
              "       [ 20, 166,  24,  36,   8,  17,   2,  24,  41,  67],\n",
              "       [ 39,  24,  83,  54,  57,  55,  60,  36,  18,  17],\n",
              "       [ 10,  31,  15,  76,  26,  51,  18,  41,  17,  20],\n",
              "       [ 84,  66, 292, 151, 417, 167, 228, 228,  56,  48],\n",
              "       [ 34,  72,  48, 129,  38, 264,  46,  94,  83,  32],\n",
              "       [ 50, 192, 209, 262, 265, 159, 467, 102,  39, 101],\n",
              "       [  9,  19,  21,  26,  22,  36,  15, 131,   8,  23],\n",
              "       [200, 121,  54,  34,  50,  57,  19,  72, 471, 141],\n",
              "       [ 60, 168,  29,  69,  31,  38,  39, 138,  99, 407]])"
            ]
          },
          "metadata": {},
          "execution_count": 16
        }
      ]
    }
  ]
}